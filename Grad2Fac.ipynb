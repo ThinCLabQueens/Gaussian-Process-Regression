{
 "cells": [
  {
   "cell_type": "code",
   "execution_count": 1,
   "id": "1b0207a7",
   "metadata": {},
   "outputs": [
    {
     "name": "stderr",
     "output_type": "stream",
     "text": [
      "Unable to determine R library path: Command '('C:/Users/Ian/anaconda3/envs/gpr/Lib/R\\\\bin\\\\Rscript', '-e', 'cat(Sys.getenv(\"LD_LIBRARY_PATH\"))')' returned non-zero exit status 1.\n"
     ]
    }
   ],
   "source": [
    "import os\n",
    "os.environ[\"R_HOME\"] = \"C:/Users/Ian/anaconda3/envs/gpr/Lib/R\"\n",
    "os.environ[\"PATH\"]   = \"C:/Users/Ian/anaconda3/envs/gpr/Lib/R/bin/x64\" + \";\" + os.environ[\"PATH\"]\n",
    "from advanced_pca import CustomPCA\n",
    "\n",
    "import matplotlib.pyplot as plt\n",
    "import numpy as np\n",
    "from sklearn.gaussian_process import GaussianProcessRegressor\n",
    "from sklearn.gaussian_process.kernels import Matern, WhiteKernel\n",
    "from sklearn.preprocessing import StandardScaler\n",
    "from sklearn.decomposition import FactorAnalysis\n",
    "import pandas as pd\n",
    "from sklearn.model_selection import KFold \n",
    "from plotly.subplots import make_subplots\n",
    "import plotly.graph_objects as go\n",
    "from sklearn.utils._testing import ignore_warnings\n",
    "from sklearn.exceptions import ConvergenceWarning\n",
    "from factor_analyzer.factor_analyzer import calculate_bartlett_sphericity\n",
    "from factor_analyzer.factor_analyzer import calculate_kmo\n",
    "\n",
    "#os.environ[\"R_HOME\"] = \"C:/Program Files/R/R-4.2.1\"\n"
   ]
  },
  {
   "cell_type": "code",
   "execution_count": 2,
   "id": "2b98ab62",
   "metadata": {},
   "outputs": [],
   "source": [
    "data=pd.read_csv('output.csv') # Reading datafile (should be in the same directory as our IDE)\n",
    "PCAdata = data.drop([\"Participant #\",\"Runtime_mod\",\"Task_name\",\"Gradient 1\",\"Gradient 2\",\"Gradient 3\"],axis=1) # Getting rid of unneeded columns for PCA"
   ]
  },
  {
   "cell_type": "code",
   "execution_count": 3,
   "id": "79c93044",
   "metadata": {},
   "outputs": [
    {
     "data": {
      "text/plain": [
       "(1054.9301210223132, 2.77740785753148e-149)"
      ]
     },
     "execution_count": 3,
     "metadata": {},
     "output_type": "execute_result"
    }
   ],
   "source": [
    "chi_square_value,p_value=calculate_bartlett_sphericity(PCAdata) # I belive this checks for correlations within our dataset which would make a PCA weird\n",
    "chi_square_value, p_value # significant p-value means we're ok"
   ]
  },
  {
   "cell_type": "code",
   "execution_count": 4,
   "id": "c090f7ff",
   "metadata": {},
   "outputs": [
    {
     "data": {
      "text/plain": [
       "(array([0.74083536, 0.72885165, 0.61729023, 0.78775575, 0.67281998,\n",
       "        0.68067679, 0.72156564, 0.64910777, 0.67622004, 0.65736379,\n",
       "        0.68384404, 0.74068531, 0.59747756, 0.7080889 , 0.7408899 ,\n",
       "        0.71675028]),\n",
       " 0.7019307042168268)"
      ]
     },
     "execution_count": 4,
     "metadata": {},
     "output_type": "execute_result"
    }
   ],
   "source": [
    "kmo_all,kmo_model=calculate_kmo(PCAdata) # Not even going to pretend I understand the Kaiser-Meyer-Olkin criteria\n",
    "kmo_all,kmo_model # kmo_model > 0.6 is acceptable"
   ]
  },
  {
   "cell_type": "code",
   "execution_count": 5,
   "id": "1cf25956",
   "metadata": {},
   "outputs": [
    {
     "ename": "AttributeError",
     "evalue": "'int' object has no attribute 'encode'",
     "output_type": "error",
     "traceback": [
      "\u001b[1;31m---------------------------------------------------------------------------\u001b[0m",
      "\u001b[1;31mTypeError\u001b[0m                                 Traceback (most recent call last)",
      "File \u001b[1;32mc:\\Users\\Ian\\anaconda3\\envs\\gpr\\lib\\site-packages\\rpy2\\rinterface_lib\\sexp.py:612\u001b[0m, in \u001b[0;36mSexpVectorAbstract.from_object\u001b[1;34m(cls, obj)\u001b[0m\n\u001b[0;32m    611\u001b[0m \u001b[39mtry\u001b[39;00m:\n\u001b[1;32m--> 612\u001b[0m     mv \u001b[39m=\u001b[39m \u001b[39mmemoryview\u001b[39;49m(obj)\n\u001b[0;32m    613\u001b[0m     res \u001b[39m=\u001b[39m \u001b[39mcls\u001b[39m\u001b[39m.\u001b[39mfrom_memoryview(mv)\n",
      "\u001b[1;31mTypeError\u001b[0m: memoryview: a bytes-like object is required, not 'tuple'",
      "\nDuring handling of the above exception, another exception occurred:\n",
      "\u001b[1;31mAttributeError\u001b[0m                            Traceback (most recent call last)",
      "\u001b[1;32mc:\\Users\\Ian\\Documents\\Gaussian-Process-Regression\\Grad2Fac.ipynb Cell 5\u001b[0m in \u001b[0;36m<cell line: 2>\u001b[1;34m()\u001b[0m\n\u001b[0;32m      <a href='vscode-notebook-cell:/c%3A/Users/Ian/Documents/Gaussian-Process-Regression/Grad2Fac.ipynb#W4sZmlsZQ%3D%3D?line=0'>1</a>\u001b[0m PCAmodel \u001b[39m=\u001b[39m CustomPCA(n_components\u001b[39m=\u001b[39m\u001b[39m4\u001b[39m,rotation\u001b[39m=\u001b[39m\u001b[39m'\u001b[39m\u001b[39mvarimax\u001b[39m\u001b[39m'\u001b[39m) \n\u001b[1;32m----> <a href='vscode-notebook-cell:/c%3A/Users/Ian/Documents/Gaussian-Process-Regression/Grad2Fac.ipynb#W4sZmlsZQ%3D%3D?line=1'>2</a>\u001b[0m PCAmodel\u001b[39m.\u001b[39;49mfit(PCAdata)\n\u001b[0;32m      <a href='vscode-notebook-cell:/c%3A/Users/Ian/Documents/Gaussian-Process-Regression/Grad2Fac.ipynb#W4sZmlsZQ%3D%3D?line=2'>3</a>\u001b[0m loadings \u001b[39m=\u001b[39m PCAmodel\u001b[39m.\u001b[39mcomponents_\u001b[39m.\u001b[39mT\n\u001b[0;32m      <a href='vscode-notebook-cell:/c%3A/Users/Ian/Documents/Gaussian-Process-Regression/Grad2Fac.ipynb#W4sZmlsZQ%3D%3D?line=3'>4</a>\u001b[0m names \u001b[39m=\u001b[39m PCAdata\u001b[39m.\u001b[39mcolumns\n",
      "File \u001b[1;32mc:\\Users\\Ian\\anaconda3\\envs\\gpr\\lib\\site-packages\\sklearn\\decomposition\\_pca.py:408\u001b[0m, in \u001b[0;36mPCA.fit\u001b[1;34m(self, X, y)\u001b[0m\n\u001b[0;32m    385\u001b[0m \u001b[39m\"\"\"Fit the model with X.\u001b[39;00m\n\u001b[0;32m    386\u001b[0m \n\u001b[0;32m    387\u001b[0m \u001b[39mParameters\u001b[39;00m\n\u001b[1;32m   (...)\u001b[0m\n\u001b[0;32m    399\u001b[0m \u001b[39m    Returns the instance itself.\u001b[39;00m\n\u001b[0;32m    400\u001b[0m \u001b[39m\"\"\"\u001b[39;00m\n\u001b[0;32m    401\u001b[0m check_scalar(\n\u001b[0;32m    402\u001b[0m     \u001b[39mself\u001b[39m\u001b[39m.\u001b[39mn_oversamples,\n\u001b[0;32m    403\u001b[0m     \u001b[39m\"\u001b[39m\u001b[39mn_oversamples\u001b[39m\u001b[39m\"\u001b[39m,\n\u001b[0;32m    404\u001b[0m     min_val\u001b[39m=\u001b[39m\u001b[39m1\u001b[39m,\n\u001b[0;32m    405\u001b[0m     target_type\u001b[39m=\u001b[39mnumbers\u001b[39m.\u001b[39mIntegral,\n\u001b[0;32m    406\u001b[0m )\n\u001b[1;32m--> 408\u001b[0m \u001b[39mself\u001b[39;49m\u001b[39m.\u001b[39;49m_fit(X)\n\u001b[0;32m    409\u001b[0m \u001b[39mreturn\u001b[39;00m \u001b[39mself\u001b[39m\n",
      "File \u001b[1;32mc:\\Users\\Ian\\anaconda3\\envs\\gpr\\lib\\site-packages\\advanced_pca\\custom_pca.py:182\u001b[0m, in \u001b[0;36mCustomPCA._fit\u001b[1;34m(self, X)\u001b[0m\n\u001b[0;32m    175\u001b[0m \u001b[39mif\u001b[39;00m \u001b[39mself\u001b[39m\u001b[39m.\u001b[39mn_samples_ \u001b[39m>\u001b[39m \u001b[39mself\u001b[39m\u001b[39m.\u001b[39mn_components_:\n\u001b[0;32m    177\u001b[0m     factor_matrix \u001b[39m=\u001b[39m (\n\u001b[0;32m    178\u001b[0m         \u001b[39mself\u001b[39m\u001b[39m.\u001b[39mcomponents_\u001b[39m.\u001b[39mT\n\u001b[0;32m    179\u001b[0m         \u001b[39m*\u001b[39m (\u001b[39mself\u001b[39m\u001b[39m.\u001b[39mexplained_variance_\u001b[39m.\u001b[39mreshape(\u001b[39m1\u001b[39m, \u001b[39m-\u001b[39m\u001b[39m1\u001b[39m) \u001b[39m*\u001b[39m\u001b[39m*\u001b[39m (\u001b[39m1\u001b[39m\u001b[39m/\u001b[39m\u001b[39m2\u001b[39m))\n\u001b[0;32m    180\u001b[0m     )\n\u001b[1;32m--> 182\u001b[0m     rot_factor_matrix \u001b[39m=\u001b[39m \u001b[39mself\u001b[39;49m\u001b[39m.\u001b[39;49m_varimax(pd\u001b[39m.\u001b[39;49mDataFrame(factor_matrix))\n\u001b[0;32m    184\u001b[0m     \u001b[39mself\u001b[39m\u001b[39m.\u001b[39mexplained_variance_ \u001b[39m=\u001b[39m (rot_factor_matrix \u001b[39m*\u001b[39m\u001b[39m*\u001b[39m \u001b[39m2\u001b[39m)\u001b[39m.\u001b[39msum(axis\u001b[39m=\u001b[39m\u001b[39m0\u001b[39m)\n\u001b[0;32m    186\u001b[0m     \u001b[39mself\u001b[39m\u001b[39m.\u001b[39mcomponents_ \u001b[39m=\u001b[39m (\n\u001b[0;32m    187\u001b[0m         rot_factor_matrix\n\u001b[0;32m    188\u001b[0m         \u001b[39m/\u001b[39m (\u001b[39mself\u001b[39m\u001b[39m.\u001b[39mexplained_variance_\u001b[39m.\u001b[39mreshape(\u001b[39m1\u001b[39m, \u001b[39m-\u001b[39m\u001b[39m1\u001b[39m) \u001b[39m*\u001b[39m\u001b[39m*\u001b[39m (\u001b[39m1\u001b[39m\u001b[39m/\u001b[39m\u001b[39m2\u001b[39m))\n\u001b[0;32m    189\u001b[0m     )\u001b[39m.\u001b[39mT\n",
      "File \u001b[1;32mc:\\Users\\Ian\\anaconda3\\envs\\gpr\\lib\\site-packages\\advanced_pca\\custom_pca.py:125\u001b[0m, in \u001b[0;36mCustomPCA._varimax\u001b[1;34m(self, factor_df, **kwargs)\u001b[0m\n\u001b[0;32m    114\u001b[0m \u001b[39mdef\u001b[39;00m \u001b[39m_varimax\u001b[39m(\u001b[39mself\u001b[39m, factor_df, \u001b[39m*\u001b[39m\u001b[39m*\u001b[39mkwargs):\n\u001b[0;32m    115\u001b[0m     \u001b[39m'''\u001b[39;00m\n\u001b[0;32m    116\u001b[0m \u001b[39m    varimax rotation of factor matrix\u001b[39;00m\n\u001b[0;32m    117\u001b[0m \n\u001b[1;32m   (...)\u001b[0m\n\u001b[0;32m    123\u001b[0m \u001b[39m        rot_factor_df: rotated factor matrix as pd.DataFrame\u001b[39;00m\n\u001b[0;32m    124\u001b[0m \u001b[39m    '''\u001b[39;00m\n\u001b[1;32m--> 125\u001b[0m     factor_mtr \u001b[39m=\u001b[39m \u001b[39mself\u001b[39;49m\u001b[39m.\u001b[39;49m_df2mtr(factor_df)\n\u001b[0;32m    126\u001b[0m     varimax \u001b[39m=\u001b[39m robjects\u001b[39m.\u001b[39mr[\u001b[39m'\u001b[39m\u001b[39mvarimax\u001b[39m\u001b[39m'\u001b[39m]\n\u001b[0;32m    127\u001b[0m     rot_factor_mtr \u001b[39m=\u001b[39m varimax(factor_mtr)\n",
      "File \u001b[1;32mc:\\Users\\Ian\\anaconda3\\envs\\gpr\\lib\\site-packages\\advanced_pca\\custom_pca.py:107\u001b[0m, in \u001b[0;36mCustomPCA._df2mtr\u001b[1;34m(df)\u001b[0m\n\u001b[0;32m    104\u001b[0m \u001b[39m# create and return r matrix\u001b[39;00m\n\u001b[0;32m    105\u001b[0m values \u001b[39m=\u001b[39m FloatVector(df\u001b[39m.\u001b[39mvalues\u001b[39m.\u001b[39mflatten())\n\u001b[0;32m    106\u001b[0m dimnames \u001b[39m=\u001b[39m ListVector(\n\u001b[1;32m--> 107\u001b[0m     rlc\u001b[39m.\u001b[39mOrdDict([(\u001b[39m'\u001b[39m\u001b[39mindex\u001b[39m\u001b[39m'\u001b[39m, StrVector(\u001b[39mtuple\u001b[39;49m(df\u001b[39m.\u001b[39;49mindex))),\n\u001b[0;32m    108\u001b[0m     (\u001b[39m'\u001b[39m\u001b[39mcolumns\u001b[39m\u001b[39m'\u001b[39m, StrVector(\u001b[39mtuple\u001b[39m(df\u001b[39m.\u001b[39mcolumns)))])\n\u001b[0;32m    109\u001b[0m )\n\u001b[0;32m    111\u001b[0m \u001b[39mreturn\u001b[39;00m robjects\u001b[39m.\u001b[39mr\u001b[39m.\u001b[39mmatrix(values, nrow\u001b[39m=\u001b[39m\u001b[39mlen\u001b[39m(df\u001b[39m.\u001b[39mindex), ncol\u001b[39m=\u001b[39m\u001b[39mlen\u001b[39m(df\u001b[39m.\u001b[39mcolumns),\n\u001b[0;32m    112\u001b[0m                          dimnames \u001b[39m=\u001b[39m dimnames, byrow\u001b[39m=\u001b[39m\u001b[39mTrue\u001b[39;00m)\n",
      "File \u001b[1;32mc:\\Users\\Ian\\anaconda3\\envs\\gpr\\lib\\site-packages\\rpy2\\robjects\\vectors.py:389\u001b[0m, in \u001b[0;36mStrVector.__init__\u001b[1;34m(self, obj)\u001b[0m\n\u001b[0;32m    388\u001b[0m \u001b[39mdef\u001b[39;00m \u001b[39m__init__\u001b[39m(\u001b[39mself\u001b[39m, obj):\n\u001b[1;32m--> 389\u001b[0m     \u001b[39msuper\u001b[39;49m()\u001b[39m.\u001b[39;49m\u001b[39m__init__\u001b[39;49m(obj)\n\u001b[0;32m    390\u001b[0m     \u001b[39mself\u001b[39m\u001b[39m.\u001b[39m_add_rops()\n",
      "File \u001b[1;32mc:\\Users\\Ian\\anaconda3\\envs\\gpr\\lib\\site-packages\\rpy2\\rinterface_lib\\sexp.py:695\u001b[0m, in \u001b[0;36mSexpVector.__init__\u001b[1;34m(self, obj)\u001b[0m\n\u001b[0;32m    693\u001b[0m     \u001b[39msuper\u001b[39m()\u001b[39m.\u001b[39m\u001b[39m__init__\u001b[39m(obj)\n\u001b[0;32m    694\u001b[0m \u001b[39melif\u001b[39;00m \u001b[39misinstance\u001b[39m(obj, collections\u001b[39m.\u001b[39mabc\u001b[39m.\u001b[39mSized):\n\u001b[1;32m--> 695\u001b[0m     robj: Sexp \u001b[39m=\u001b[39m \u001b[39mtype\u001b[39;49m(\u001b[39mself\u001b[39;49m)\u001b[39m.\u001b[39;49mfrom_object(obj)\n\u001b[0;32m    696\u001b[0m     \u001b[39msuper\u001b[39m()\u001b[39m.\u001b[39m\u001b[39m__init__\u001b[39m(robj)\n\u001b[0;32m    697\u001b[0m \u001b[39melse\u001b[39;00m:\n",
      "File \u001b[1;32mc:\\Users\\Ian\\anaconda3\\envs\\gpr\\lib\\site-packages\\rpy2\\rinterface_lib\\sexp.py:616\u001b[0m, in \u001b[0;36mSexpVectorAbstract.from_object\u001b[1;34m(cls, obj)\u001b[0m\n\u001b[0;32m    614\u001b[0m \u001b[39mexcept\u001b[39;00m (\u001b[39mTypeError\u001b[39;00m, \u001b[39mValueError\u001b[39;00m):\n\u001b[0;32m    615\u001b[0m     \u001b[39mtry\u001b[39;00m:\n\u001b[1;32m--> 616\u001b[0m         res \u001b[39m=\u001b[39m \u001b[39mcls\u001b[39;49m\u001b[39m.\u001b[39;49mfrom_iterable(obj)\n\u001b[0;32m    617\u001b[0m     \u001b[39mexcept\u001b[39;00m \u001b[39mValueError\u001b[39;00m:\n\u001b[0;32m    618\u001b[0m         msg \u001b[39m=\u001b[39m (\u001b[39m'\u001b[39m\u001b[39mThe class methods from_memoryview() and \u001b[39m\u001b[39m'\u001b[39m\n\u001b[0;32m    619\u001b[0m                \u001b[39m'\u001b[39m\u001b[39mfrom_iterable() both failed to make a \u001b[39m\u001b[39m{}\u001b[39;00m\u001b[39m \u001b[39m\u001b[39m'\u001b[39m\n\u001b[0;32m    620\u001b[0m                \u001b[39m'\u001b[39m\u001b[39mfrom an object of class \u001b[39m\u001b[39m{}\u001b[39;00m\u001b[39m'\u001b[39m\n\u001b[0;32m    621\u001b[0m                \u001b[39m.\u001b[39mformat(\u001b[39mcls\u001b[39m, \u001b[39mtype\u001b[39m(obj)))\n",
      "File \u001b[1;32mc:\\Users\\Ian\\anaconda3\\envs\\gpr\\lib\\site-packages\\rpy2\\rinterface_lib\\conversion.py:45\u001b[0m, in \u001b[0;36m_cdata_res_to_rinterface.<locals>._\u001b[1;34m(*args, **kwargs)\u001b[0m\n\u001b[0;32m     44\u001b[0m \u001b[39mdef\u001b[39;00m \u001b[39m_\u001b[39m(\u001b[39m*\u001b[39margs, \u001b[39m*\u001b[39m\u001b[39m*\u001b[39mkwargs):\n\u001b[1;32m---> 45\u001b[0m     cdata \u001b[39m=\u001b[39m function(\u001b[39m*\u001b[39;49margs, \u001b[39m*\u001b[39;49m\u001b[39m*\u001b[39;49mkwargs)\n\u001b[0;32m     46\u001b[0m     \u001b[39m# TODO: test cdata is of the expected CType\u001b[39;00m\n\u001b[0;32m     47\u001b[0m     \u001b[39mreturn\u001b[39;00m _cdata_to_rinterface(cdata)\n",
      "File \u001b[1;32mc:\\Users\\Ian\\anaconda3\\envs\\gpr\\lib\\site-packages\\rpy2\\rinterface_lib\\sexp.py:553\u001b[0m, in \u001b[0;36mSexpVectorAbstract.from_iterable\u001b[1;34m(cls, iterable, populate_func, set_elt, cast_value)\u001b[0m\n\u001b[0;32m    548\u001b[0m \u001b[39mwith\u001b[39;00m memorymanagement\u001b[39m.\u001b[39mrmemory() \u001b[39mas\u001b[39;00m rmemory:\n\u001b[0;32m    549\u001b[0m     r_vector \u001b[39m=\u001b[39m rmemory\u001b[39m.\u001b[39mprotect(\n\u001b[0;32m    550\u001b[0m         openrlib\u001b[39m.\u001b[39mrlib\u001b[39m.\u001b[39mRf_allocVector(\n\u001b[0;32m    551\u001b[0m             \u001b[39mcls\u001b[39m\u001b[39m.\u001b[39m_R_TYPE, n)\n\u001b[0;32m    552\u001b[0m     )\n\u001b[1;32m--> 553\u001b[0m     populate_func(iterable, r_vector, set_elt, cast_value)\n\u001b[0;32m    554\u001b[0m \u001b[39mreturn\u001b[39;00m r_vector\n",
      "File \u001b[1;32mc:\\Users\\Ian\\anaconda3\\envs\\gpr\\lib\\site-packages\\rpy2\\rinterface_lib\\sexp.py:497\u001b[0m, in \u001b[0;36m_populate_r_vector\u001b[1;34m(iterable, r_vector, set_elt, cast_value)\u001b[0m\n\u001b[0;32m    495\u001b[0m \u001b[39mdef\u001b[39;00m \u001b[39m_populate_r_vector\u001b[39m(iterable, r_vector, set_elt, cast_value) \u001b[39m-\u001b[39m\u001b[39m>\u001b[39m \u001b[39mNone\u001b[39;00m:\n\u001b[0;32m    496\u001b[0m     \u001b[39mfor\u001b[39;00m i, v \u001b[39min\u001b[39;00m \u001b[39menumerate\u001b[39m(iterable):\n\u001b[1;32m--> 497\u001b[0m         set_elt(r_vector, i, cast_value(v))\n",
      "File \u001b[1;32mc:\\Users\\Ian\\anaconda3\\envs\\gpr\\lib\\site-packages\\rpy2\\rinterface_lib\\sexp.py:709\u001b[0m, in \u001b[0;36m_as_charsxp_cdata\u001b[1;34m(x)\u001b[0m\n\u001b[0;32m    707\u001b[0m     \u001b[39mreturn\u001b[39;00m x\u001b[39m.\u001b[39m__sexp__\u001b[39m.\u001b[39m_cdata\n\u001b[0;32m    708\u001b[0m \u001b[39melse\u001b[39;00m:\n\u001b[1;32m--> 709\u001b[0m     \u001b[39mreturn\u001b[39;00m conversion\u001b[39m.\u001b[39;49m_str_to_charsxp(x)\n",
      "File \u001b[1;32mc:\\Users\\Ian\\anaconda3\\envs\\gpr\\lib\\site-packages\\rpy2\\rinterface_lib\\conversion.py:147\u001b[0m, in \u001b[0;36m_str_to_charsxp\u001b[1;34m(val)\u001b[0m\n\u001b[0;32m    145\u001b[0m     s \u001b[39m=\u001b[39m rlib\u001b[39m.\u001b[39mR_NaString\n\u001b[0;32m    146\u001b[0m \u001b[39melse\u001b[39;00m:\n\u001b[1;32m--> 147\u001b[0m     cchar \u001b[39m=\u001b[39m _str_to_cchar(val, encoding\u001b[39m=\u001b[39;49m\u001b[39m'\u001b[39;49m\u001b[39mutf-8\u001b[39;49m\u001b[39m'\u001b[39;49m)\n\u001b[0;32m    148\u001b[0m     s \u001b[39m=\u001b[39m rlib\u001b[39m.\u001b[39mRf_mkCharCE(cchar, openrlib\u001b[39m.\u001b[39mrlib\u001b[39m.\u001b[39mCE_UTF8)\n\u001b[0;32m    149\u001b[0m \u001b[39mreturn\u001b[39;00m s\n",
      "File \u001b[1;32mc:\\Users\\Ian\\anaconda3\\envs\\gpr\\lib\\site-packages\\rpy2\\rinterface_lib\\conversion.py:126\u001b[0m, in \u001b[0;36m_str_to_cchar\u001b[1;34m(s, encoding)\u001b[0m\n\u001b[0;32m    124\u001b[0m \u001b[39mdef\u001b[39;00m \u001b[39m_str_to_cchar\u001b[39m(s: \u001b[39mstr\u001b[39m, encoding: \u001b[39mstr\u001b[39m \u001b[39m=\u001b[39m \u001b[39m'\u001b[39m\u001b[39mutf-8\u001b[39m\u001b[39m'\u001b[39m):\n\u001b[0;32m    125\u001b[0m     \u001b[39m# TODO: use isString and installTrChar\u001b[39;00m\n\u001b[1;32m--> 126\u001b[0m     b \u001b[39m=\u001b[39m s\u001b[39m.\u001b[39;49mencode(encoding)\n\u001b[0;32m    127\u001b[0m     \u001b[39mreturn\u001b[39;00m ffi\u001b[39m.\u001b[39mnew(\u001b[39m'\u001b[39m\u001b[39mchar[]\u001b[39m\u001b[39m'\u001b[39m, b)\n",
      "\u001b[1;31mAttributeError\u001b[0m: 'int' object has no attribute 'encode'"
     ]
    }
   ],
   "source": [
    "PCAmodel = CustomPCA(n_components=4,rotation='varimax') \n",
    "PCAmodel.fit(PCAdata)\n",
    "loadings = PCAmodel.components_.T\n",
    "names = PCAdata.columns\n",
    "loadings = pd.DataFrame(loadings,index=names)\n",
    "PCAresults = PCAmodel.transform(PCAdata).T"
   ]
  },
  {
   "cell_type": "code",
   "execution_count": null,
   "id": "ad92f17d",
   "metadata": {},
   "outputs": [],
   "source": [
    "FAC=np.asarray([PCAresults[0], PCAresults[1],PCAresults[2],PCAresults[3]]).T\n",
    "GRAD=np.asarray([data[\"Gradient 1\"], data[\"Gradient 2\"],data[\"Gradient 3\"]]).T\n",
    "KeepIndex=~np.isnan(FAC[:,0])\n",
    "tasknum = len(data[\"Task_name\"].unique())"
   ]
  },
  {
   "cell_type": "code",
   "execution_count": null,
   "id": "86ce63cc",
   "metadata": {},
   "outputs": [],
   "source": [
    "\n",
    "Tasklabels,Taskindices=np.unique(data[\"Task_name\"],return_inverse=True)\n",
    "FAC_TaskCentres=np.zeros([tasknum,4])\n",
    "for i in range(tasknum):\n",
    "    FAC_TaskCentres[i,:]=FAC[Taskindices==i,:].mean(axis=0)\n",
    "\n",
    "Grad_TaskCentres=np.zeros([tasknum,3])\n",
    "for i in range(tasknum):\n",
    "\n",
    "    Grad_TaskCentres[i,:]=GRAD[np.ix_(Taskindices==(i),[0,1,2])].mean(axis=0)\n"
   ]
  },
  {
   "cell_type": "code",
   "execution_count": null,
   "id": "7c3ca4ce",
   "metadata": {},
   "outputs": [],
   "source": [
    "#Fit whole dataset\n",
    "\n",
    "\n",
    "\n",
    "fig_estimated_mean = make_subplots(rows=2, cols=2, subplot_titles=(\"Component 1\", \"Component 2\", \"Component 3\", \"Component 4\"),specs=[[{'type': 'surface'}, {'type': 'surface'}],[{'type': 'surface'}, {'type': 'surface'}]])\n",
    "\n",
    "fig_standard_deviation = make_subplots(rows=2,cols=2, subplot_titles=(\"Component 1\", \"Component 2\", \"Component 3\", \"Component 4\"),specs=[[{'type': 'surface'}, {'type': 'surface'}],[{'type': 'surface'}, {'type': 'surface'}]])\n",
    "\n",
    "count = 0\n",
    "\n",
    "for i in range(2):\n",
    "    for j in range(2):\n",
    "\n",
    "        standardscaler=StandardScaler()\n",
    "        X=Grad_TaskCentres\n",
    "\n",
    "        y = standardscaler.fit_transform(FAC_TaskCentres[:,count].reshape(-1,1))    \n",
    "\n",
    "\n",
    "        kernel = 1.0 * Matern(length_scale=0.5, length_scale_bounds=(0.5, 1), nu=2.5) + WhiteKernel(noise_level_bounds=[0.001,0.1],noise_level=0.05)\n",
    "\n",
    "\n",
    "        gpr = GaussianProcessRegressor(kernel=kernel, random_state=3,normalize_y=False,alpha=0)\n",
    "        \n",
    "        @ignore_warnings(category=ConvergenceWarning)\n",
    "        def _f():\n",
    "            gpr.fit(X, y)\n",
    "\n",
    "        _f()\n",
    "\n",
    "\n",
    "        lim = 0.6\n",
    "        res = 50\n",
    "        lin = np.linspace(-lim, lim, res)\n",
    "\n",
    "        \n",
    "        x1, x2, x3 = np.meshgrid(lin, lin, lin)\n",
    "\n",
    "        xx = np.vstack((x1.flatten(), x2.flatten(), x3.flatten())).T\n",
    "\n",
    "        y_mean, y_sd = gpr.predict(xx, return_std=True)\n",
    "\n",
    "\n",
    "        fig_estimated_mean.add_trace(go.Volume(\n",
    "            x=pd.Series(x1.flatten(),name=\"Gradient 1\"),\n",
    "            y=pd.Series(x2.flatten(),name=\"Gradient 2\"),\n",
    "            z=pd.Series(x3.flatten(),name=\"Gradient 3\"),\n",
    "            value=y_mean,\n",
    "            hoverinfo='skip',\n",
    "            opacityscale=[[0, 0.8], [0.35, 0],[0.65, 0], [1, 0.8]],\n",
    "            surface_count=25,\n",
    "            showlegend=False,\n",
    "            colorbar={\"tickmode\":\"array\",'tickvals': [min(y_mean),max(y_mean)],'ticktext': [\"Predicted low loading\",\"Predicted high loading\"]}\n",
    "\n",
    "            ),i+1,j+1)\n",
    "\n",
    "        fig_estimated_mean.add_trace(go.Scatter3d(\n",
    "            x=Grad_TaskCentres[:,0], \n",
    "            y=Grad_TaskCentres[:,1],\n",
    "            z=Grad_TaskCentres[:,2],\n",
    "            marker_color=FAC_TaskCentres[:,count],\n",
    "            text=Tasklabels,mode=\"markers+text\",\n",
    "            showlegend=False,\n",
    "            ),i+1,j+1)\n",
    "\n",
    "       \n",
    "\n",
    "        fig_standard_deviation.add_trace(go.Volume(\n",
    "            x=pd.Series(x1.flatten(),name=\"Gradient 1\"),\n",
    "            y=pd.Series(x2.flatten(),name=\"Gradient 2\"),\n",
    "            z=pd.Series(x3.flatten(),name=\"Gradient 3\"),\n",
    "            value=y_sd,\n",
    "            hoverinfo='skip',\n",
    "            showlegend=False,\n",
    "            #showscale=False,\n",
    "            opacityscale=[[0, 0.8], [0.35, 0],[0.65, 0], [1, 0.8]],\n",
    "            colorbar={\"tickmode\":\"array\",'tickvals': [min(y_sd),max(y_sd)],'ticktext': [\"Low uncertainty in predicted loading\",\"High uncertainty in predicted loading\"]},\n",
    "            surface_count=25,\n",
    "            ),i+1,j+1)\n",
    "        count += 1\n",
    "        fig_estimated_mean.update(layout_coloraxis_showscale=False)\n",
    "        \n",
    "fig_estimated_mean.write_html(\"estimated_mean.html\")\n",
    "fig_standard_deviation.write_html(\"standard_deviation.html\")"
   ]
  },
  {
   "cell_type": "code",
   "execution_count": null,
   "id": "34fd07fa",
   "metadata": {},
   "outputs": [],
   "source": [
    "# Do in 3 gradient dimensions\n",
    "Tasklabels,Taskindices=np.unique(data.Task_name,return_inverse=True)\n",
    "FAC_TaskCentres=np.zeros([tasknum,4])\n",
    "for i in range(tasknum):\n",
    "    FAC_TaskCentres[i,:]=FAC[Taskindices==i,:].mean(axis=0)\n",
    "\n",
    "Grad_TaskCentres=np.zeros([tasknum,3])\n",
    "for i in range(tasknum):\n",
    "    #Grad_TaskCentres[i,:]=GRAD[Taskindices==i+1,(0,2)].mean(axis=0)\n",
    "    Grad_TaskCentres[i,:]=GRAD[np.ix_(Taskindices==(i),[0,1,2])].mean(axis=0)\n"
   ]
  },
  {
   "cell_type": "code",
   "execution_count": null,
   "id": "9549f33f",
   "metadata": {},
   "outputs": [],
   "source": [
    "\n",
    "\n",
    "#Assess out of sample prediction with 3d gradient\n",
    "\n",
    "fig, axs = plt.subplots(1,1,figsize=(8, 8), dpi=150)\n",
    "\n",
    "k = tasknum\n",
    "kf = KFold(n_splits=k, random_state=None)\n",
    "numFac=4\n",
    "\n",
    "X=Grad_TaskCentres\n",
    "standardscaler=StandardScaler()\n",
    "avg_acc_score=np.zeros([numFac])\n",
    "pred_Fac=np.zeros([tasknum,numFac])\n",
    "real_Fac=np.zeros([tasknum,numFac])\n",
    "\n",
    "for i in range(numFac):\n",
    "    acc_score = []\n",
    "    y = standardscaler.fit_transform(FAC_TaskCentres[:,i].reshape(-1,1))    \n",
    "\n",
    "    for train_index , test_index in kf.split(X):\n",
    "\n",
    "        X_train , X_test = X[train_index,:],X[test_index,:]\n",
    "        y_train , y_test = y[train_index] , y[test_index]\n",
    "\n",
    "        kernel = 1.0 * Matern(length_scale=0.5, length_scale_bounds=(0.5, 1), nu=2.5)+ WhiteKernel(noise_level_bounds=[0.001,0.5],noise_level=0.05)\n",
    "        gpr = GaussianProcessRegressor(kernel=kernel, random_state=3,normalize_y=False,alpha=0.0)\n",
    "        \n",
    "        @ignore_warnings(category=ConvergenceWarning)\n",
    "        def __f():\n",
    "            gpr.fit(X_train, y_train)\n",
    "        __f()\n",
    "        \n",
    "        pred_values = gpr.predict(X_test)\n",
    "        pred_Fac[test_index,i]=pred_values\n",
    "        real_Fac[test_index,i]=y_test\n",
    "        acc=np.abs(pred_values-y_test.T).sum()\n",
    "        acc_score.append(acc)\n",
    "        \n",
    "    avg_acc_score[i] = np.median(acc_score)\n",
    "\n",
    "ax = fig.add_subplot(1, 1, 1, projection='3d')\n",
    "\n",
    "ax.scatter(pred_Fac[:,0],pred_Fac[:,1],pred_Fac[:,2],c='k',marker='+')\n",
    "ax.scatter(real_Fac[:,0],real_Fac[:,1],real_Fac[:,2],c='k',marker='o')\n",
    "\n",
    "for i in range(tasknum):\n",
    "    ax.plot([pred_Fac[i,0],real_Fac[i,0]],[pred_Fac[i,1],real_Fac[i,1]],[pred_Fac[i,2],real_Fac[i,2]],c='k',marker='')\n",
    "    ax.text(real_Fac[i,0],real_Fac[i,1],real_Fac[i,2],Tasklabels[i],c='k')\n",
    "    "
   ]
  },
  {
   "cell_type": "code",
   "execution_count": null,
   "id": "ca662c9e",
   "metadata": {},
   "outputs": [],
   "source": [
    "np.power(np.power(pred_Fac-real_Fac,2).mean(axis=1),0.5)"
   ]
  },
  {
   "cell_type": "code",
   "execution_count": null,
   "id": "8369aded",
   "metadata": {},
   "outputs": [],
   "source": [
    "avg_acc_score"
   ]
  },
  {
   "cell_type": "code",
   "execution_count": null,
   "id": "ab6aaf1c",
   "metadata": {},
   "outputs": [],
   "source": [
    "\n",
    "Tasklabels,Taskindices=np.unique(data.Task_name,return_inverse=True)\n",
    "FAC_TaskCentres=np.zeros([tasknum,4])\n",
    "for i in range(tasknum):\n",
    "    FAC_TaskCentres[i,:]=FAC[Taskindices==i,:].mean(axis=0)\n",
    "\n",
    "Grad_TaskCentres=np.zeros([tasknum,3])\n",
    "for i in range(tasknum):\n",
    "    Grad_TaskCentres[i,:]=GRAD[Taskindices==i,:].mean(axis=0)\n"
   ]
  },
  {
   "cell_type": "code",
   "execution_count": null,
   "id": "561d4e6a",
   "metadata": {},
   "outputs": [],
   "source": [
    "from sklearn.model_selection import permutation_test_score\n",
    "\n",
    "k = 4\n",
    "kernel = 1.0 * Matern(length_scale=0.5, length_scale_bounds=(0.5, 1), nu=2.5) \n",
    "kf = KFold(n_splits=k, random_state=None)\n",
    "\n",
    "\n",
    "\n",
    "gpr = GaussianProcessRegressor(kernel=kernel, random_state=None,normalize_y=True,alpha=0.1)\n",
    "X=Grad_TaskCentres\n",
    "scores = {}\n",
    "\n",
    "for PCnum in range(FAC_TaskCentres.shape[1]):\n",
    "    standardscaler=StandardScaler()\n",
    "\n",
    "    y = FAC_TaskCentres[:,PCnum]\n",
    "    \n",
    "    @ignore_warnings(category=ConvergenceWarning)\n",
    "    def ___f():\n",
    "        score_gradfac, perm_scores_gradfac, pvalue_gradfac = permutation_test_score(gpr, X, y, scoring=\"neg_mean_absolute_error\", cv=kf, n_permutations=1000)\n",
    "    \n",
    "        scores.update({PCnum:[score_gradfac,pvalue_gradfac]})\n",
    "    \n",
    "    ___f()\n",
    "\n",
    "\n"
   ]
  },
  {
   "cell_type": "code",
   "execution_count": null,
   "id": "d619747f",
   "metadata": {},
   "outputs": [],
   "source": [
    "numloadings = 5\n",
    "for score in scores:\n",
    "    loading = loadings[score]\n",
    "    loadingpos = loading.apply(lambda x: np.abs(x)).sort_values(ascending=False)\n",
    "    tops = loading[loadingpos[:numloadings].index]\n",
    "    print(\n",
    "        \"\"\"\n",
    "        Results for component {}:\n",
    "        Largest loadings: \n",
    "        \"\"\".format(score)\n",
    "        )\n",
    "    with pd.option_context('display.max_rows', 5,\n",
    "                       'display.max_columns', None,\n",
    "                       'display.width', 1000,\n",
    "                       'display.precision', 3,\n",
    "                       'display.colheader_justify', 'center'):\n",
    "        display(tops)\n",
    "    print(\n",
    "        \"\"\"\n",
    "        Permutation test score: {},\n",
    "        Permutation test significance: {}\n",
    "        \"\"\".format(scores[score][0],scores[score][1])\n",
    "        )\n"
   ]
  },
  {
   "cell_type": "code",
   "execution_count": null,
   "id": "7562bd96",
   "metadata": {},
   "outputs": [],
   "source": []
  },
  {
   "cell_type": "code",
   "execution_count": null,
   "id": "92c6a264",
   "metadata": {},
   "outputs": [],
   "source": []
  }
 ],
 "metadata": {
  "kernelspec": {
   "display_name": "Python 3.8.13 ('gpr')",
   "language": "python",
   "name": "python3"
  },
  "language_info": {
   "codemirror_mode": {
    "name": "ipython",
    "version": 3
   },
   "file_extension": ".py",
   "mimetype": "text/x-python",
   "name": "python",
   "nbconvert_exporter": "python",
   "pygments_lexer": "ipython3",
   "version": "3.8.13"
  },
  "vscode": {
   "interpreter": {
    "hash": "41a863dc5151744889f38482beb0b8f11abc360c97c8144206326c4eda7cb426"
   }
  }
 },
 "nbformat": 4,
 "nbformat_minor": 5
}
